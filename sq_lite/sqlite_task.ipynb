{
 "cells": [
  {
   "cell_type": "markdown",
   "metadata": {},
   "source": [
    "Write a wrapper class TableData for database table, that when initialized with database name and table acts as collection object (implements Collection protocol).\n",
    "Assume all data has unique values in 'name' column.\n",
    "So, if presidents = TableData(database_name='example.sqlite', table_name='presidents')\n",
    "\n",
    "then\n",
    " -  `len(presidents)` will give current amount of rows in presidents table in database\n",
    " -  `presidents['Yeltsin']` should return single data row for president with name Yeltsin\n",
    " -  `'Yeltsin' in presidents` should return if president with same name exists in table\n",
    " -  object implements iteration protocol. i.e. you could use it in for loops::\n",
    "       for president in presidents:\n",
    "           print(president['name'])\n",
    " - all above mentioned calls should reflect most recent data. If data in table changed after you created collection instance, your calls should return updated data.\n",
    "\n",
    "Avoid reading entire table into memory. When iterating through records, start reading the first record, then go to the next one, until records are exhausted.\n",
    "When writing tests, it's not always neccessary to mock database calls completely. Use supplied example.sqlite file as database fixture file."
   ]
  },
  {
   "cell_type": "code",
   "execution_count": null,
   "metadata": {},
   "outputs": [
    {
     "name": "stdout",
     "output_type": "stream",
     "text": [
      "Number of presidents: 4\n",
      "Yeltsin's data: {'name': 'Yeltsin', 'age': 999, 'country': 'Russia'}\n",
      "Is Yeltsin in presidents? True\n",
      "Is Putin in presidents? False\n",
      "List of presidents:\n",
      "Yeltsin\n",
      "Trump\n",
      "Big Man Tyrone\n",
      "Truman\n"
     ]
    }
   ],
   "source": [
    "import sqlite3\n",
    "\n",
    "class TableData:\n",
    "    def __init__(self, database_name, table_name):\n",
    "        self.database_name = database_name\n",
    "        self.table_name = table_name\n",
    "\n",
    "    # подключение к базе\n",
    "    def _get_connection(self):\n",
    "        return sqlite3.connect(self.database_name)\n",
    "\n",
    "    # количество строк\n",
    "    def __len__(self):\n",
    "        with self._get_connection() as conn:\n",
    "            cursor = conn.cursor()\n",
    "            cursor.execute(f\"SELECT COUNT(*) FROM {self.table_name}\")\n",
    "            return cursor.fetchone()[0]\n",
    "\n",
    "    # информация об элементе\n",
    "    def __getitem__(self, name):\n",
    "        with self._get_connection() as conn:\n",
    "            cursor = conn.cursor()\n",
    "            cursor.execute(f\"SELECT * FROM {self.table_name} WHERE name=?\", (name,))\n",
    "            row = cursor.fetchone()\n",
    "            if row is None:\n",
    "                raise KeyError(f\"No record found with name '{name}'\")\n",
    "            return dict(zip([column[0] for column in cursor.description], row))\n",
    "\n",
    "    # проверка на сущестование элемента\n",
    "    def __contains__(self, name):\n",
    "        with self._get_connection() as conn:\n",
    "            cursor = conn.cursor()\n",
    "            cursor.execute(f\"SELECT 1 FROM {self.table_name} WHERE name=?\", (name,))\n",
    "            return cursor.fetchone() is not None\n",
    "\n",
    "    # вывод элементов в списке\n",
    "    def __iter__(self):\n",
    "        with self._get_connection() as conn:\n",
    "            cursor = conn.cursor()\n",
    "            cursor.execute(f\"SELECT * FROM {self.table_name}\")\n",
    "            columns = [column[0] for column in cursor.description]\n",
    "            for row in cursor:\n",
    "                yield dict(zip(columns, row))\n",
    "\n",
    "# Пример использования класса\n",
    "if __name__ == \"__main__\":\n",
    "    db = 'example.sqlite'\n",
    "    presidents = TableData(database_name=db, table_name='presidents')\n",
    "\n",
    "    # Получение количества президентов\n",
    "    count = len(presidents)\n",
    "    print(f\"Number of presidents: {count}\")\n",
    "\n",
    "    # Получение данных о президенте\n",
    "    yeltsin = presidents['Yeltsin']\n",
    "    print(f\"Yeltsin's data: {yeltsin}\")\n",
    "\n",
    "    # Проверка наличия президента\n",
    "    exists_yeltsin = 'Yeltsin' in presidents\n",
    "    print(f\"Is Yeltsin in presidents? {exists_yeltsin}\")\n",
    "    exists_putin = 'Putin' in presidents\n",
    "    print(f\"Is Putin in presidents? {exists_putin}\")\n",
    "\n",
    "    # Итерация по всем президентам\n",
    "    print(\"List of presidents:\")\n",
    "    for president in presidents:\n",
    "        print(president['name'])"
   ]
  }
 ],
 "metadata": {
  "kernelspec": {
   "display_name": "Python 3",
   "language": "python",
   "name": "python3"
  },
  "language_info": {
   "codemirror_mode": {
    "name": "ipython",
    "version": 3
   },
   "file_extension": ".py",
   "mimetype": "text/x-python",
   "name": "python",
   "nbconvert_exporter": "python",
   "pygments_lexer": "ipython3",
   "version": "3.12.0"
  }
 },
 "nbformat": 4,
 "nbformat_minor": 2
}
